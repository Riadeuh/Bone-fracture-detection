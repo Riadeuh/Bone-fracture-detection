{
 "cells": [
  {
   "cell_type": "code",
   "execution_count": 1,
   "id": "0db6a1a0",
   "metadata": {
    "execution": {
     "iopub.execute_input": "2025-05-05T23:27:17.294714Z",
     "iopub.status.busy": "2025-05-05T23:27:17.294482Z",
     "iopub.status.idle": "2025-05-05T23:27:17.300614Z",
     "shell.execute_reply": "2025-05-05T23:27:17.300125Z"
    },
    "papermill": {
     "duration": 0.010384,
     "end_time": "2025-05-05T23:27:17.301694",
     "exception": false,
     "start_time": "2025-05-05T23:27:17.291310",
     "status": "completed"
    },
    "tags": []
   },
   "outputs": [],
   "source": [
    "import os\n",
    "\n",
    "PATH = '/kaggle/input/fracture-detection-using-x-ray-images/data'\n",
    "train_dir = os.path.join(PATH, 'train')\n",
    "val_dir = os.path.join(PATH, 'val')"
   ]
  },
  {
   "cell_type": "code",
   "execution_count": 2,
   "id": "83b2b765",
   "metadata": {
    "execution": {
     "iopub.execute_input": "2025-05-05T23:27:17.305878Z",
     "iopub.status.busy": "2025-05-05T23:27:17.305705Z",
     "iopub.status.idle": "2025-05-05T23:27:36.288829Z",
     "shell.execute_reply": "2025-05-05T23:27:36.288251Z"
    },
    "papermill": {
     "duration": 18.986304,
     "end_time": "2025-05-05T23:27:36.289922",
     "exception": false,
     "start_time": "2025-05-05T23:27:17.303618",
     "status": "completed"
    },
    "tags": []
   },
   "outputs": [
    {
     "name": "stderr",
     "output_type": "stream",
     "text": [
      "2025-05-05 23:27:18.793139: E external/local_xla/xla/stream_executor/cuda/cuda_fft.cc:477] Unable to register cuFFT factory: Attempting to register factory for plugin cuFFT when one has already been registered\n",
      "WARNING: All log messages before absl::InitializeLog() is called are written to STDERR\n",
      "E0000 00:00:1746487638.989619      19 cuda_dnn.cc:8310] Unable to register cuDNN factory: Attempting to register factory for plugin cuDNN when one has already been registered\n",
      "E0000 00:00:1746487639.043455      19 cuda_blas.cc:1418] Unable to register cuBLAS factory: Attempting to register factory for plugin cuBLAS when one has already been registered\n"
     ]
    },
    {
     "name": "stdout",
     "output_type": "stream",
     "text": [
      "Found 8863 images belonging to 2 classes.\n",
      "Found 600 images belonging to 2 classes.\n"
     ]
    }
   ],
   "source": [
    "from tensorflow.keras.preprocessing.image import ImageDataGenerator\n",
    "\n",
    "IMG_SIZE = (224, 224)\n",
    "BATCH_SIZE = 32\n",
    "SEED = 42\n",
    "\n",
    "datagen = ImageDataGenerator(rescale=1./255)\n",
    "\n",
    "train_generator = datagen.flow_from_directory(\n",
    "    train_dir,\n",
    "    target_size=IMG_SIZE,\n",
    "    batch_size=BATCH_SIZE,\n",
    "    shuffle=True,\n",
    "    seed=SEED\n",
    ")\n",
    "\n",
    "val_generator = datagen.flow_from_directory(\n",
    "    val_dir,\n",
    "    target_size=IMG_SIZE,\n",
    "    batch_size=BATCH_SIZE,\n",
    "    shuffle=False,\n",
    "    seed=SEED\n",
    ")"
   ]
  },
  {
   "cell_type": "code",
   "execution_count": 3,
   "id": "3142806f",
   "metadata": {
    "execution": {
     "iopub.execute_input": "2025-05-05T23:27:36.294892Z",
     "iopub.status.busy": "2025-05-05T23:27:36.294231Z",
     "iopub.status.idle": "2025-05-05T23:27:41.273178Z",
     "shell.execute_reply": "2025-05-05T23:27:41.272516Z"
    },
    "papermill": {
     "duration": 4.982687,
     "end_time": "2025-05-05T23:27:41.274586",
     "exception": false,
     "start_time": "2025-05-05T23:27:36.291899",
     "status": "completed"
    },
    "tags": []
   },
   "outputs": [
    {
     "name": "stderr",
     "output_type": "stream",
     "text": [
      "I0000 00:00:1746487657.416536      19 gpu_device.cc:2022] Created device /job:localhost/replica:0/task:0/device:GPU:0 with 15513 MB memory:  -> device: 0, name: Tesla P100-PCIE-16GB, pci bus id: 0000:00:04.0, compute capability: 6.0\n"
     ]
    },
    {
     "name": "stdout",
     "output_type": "stream",
     "text": [
      "Downloading data from https://storage.googleapis.com/tensorflow/keras-applications/densenet/densenet121_weights_tf_dim_ordering_tf_kernels_notop.h5\n",
      "\u001b[1m29084464/29084464\u001b[0m \u001b[32m━━━━━━━━━━━━━━━━━━━━\u001b[0m\u001b[37m\u001b[0m \u001b[1m0s\u001b[0m 0us/step\n"
     ]
    }
   ],
   "source": [
    "import tensorflow as tf\n",
    "from tensorflow.keras.applications import DenseNet121\n",
    "from tensorflow.keras.layers import GlobalAveragePooling2D\n",
    "\n",
    "base_model = DenseNet121(include_top=False, weights='imagenet', input_shape=IMG_SIZE + (3,))\n",
    "base_model.trainable = False\n",
    "feature_extractor = tf.keras.Sequential([base_model, GlobalAveragePooling2D()])"
   ]
  },
  {
   "cell_type": "code",
   "execution_count": 4,
   "id": "9946cbfd",
   "metadata": {
    "execution": {
     "iopub.execute_input": "2025-05-05T23:27:41.280056Z",
     "iopub.status.busy": "2025-05-05T23:27:41.279807Z",
     "iopub.status.idle": "2025-05-05T23:29:47.127516Z",
     "shell.execute_reply": "2025-05-05T23:29:47.126866Z"
    },
    "papermill": {
     "duration": 125.851906,
     "end_time": "2025-05-05T23:29:47.128950",
     "exception": false,
     "start_time": "2025-05-05T23:27:41.277044",
     "status": "completed"
    },
    "tags": []
   },
   "outputs": [
    {
     "name": "stderr",
     "output_type": "stream",
     "text": [
      "WARNING: All log messages before absl::InitializeLog() is called are written to STDERR\n",
      "I0000 00:00:1746487666.851328      71 service.cc:148] XLA service 0x7aa6f8004580 initialized for platform CUDA (this does not guarantee that XLA will be used). Devices:\n",
      "I0000 00:00:1746487666.852182      71 service.cc:156]   StreamExecutor device (0): Tesla P100-PCIE-16GB, Compute Capability 6.0\n",
      "I0000 00:00:1746487668.259168      71 cuda_dnn.cc:529] Loaded cuDNN version 90300\n",
      "I0000 00:00:1746487677.705587      71 device_compiler.h:188] Compiled cluster using XLA!  This line is logged at most once for the lifetime of the process.\n"
     ]
    }
   ],
   "source": [
    "import numpy as np\n",
    "from PIL import ImageFile\n",
    "\n",
    "ImageFile.LOAD_TRUNCATED_IMAGES = True\n",
    "\n",
    "def extract_features(generator):\n",
    "    features = []\n",
    "    labels = []\n",
    "    for i in range(len(generator)):\n",
    "        batch_images, batch_labels = generator[i]\n",
    "        batch_features = feature_extractor.predict(batch_images, verbose=0)\n",
    "        features.extend(batch_features)\n",
    "        labels.extend(batch_labels)\n",
    "    return np.array(features), np.array(labels)\n",
    "\n",
    "\n",
    "X_train, y_train = extract_features(train_generator)\n",
    "X_val, y_val = extract_features(val_generator)\n",
    "\n",
    "y_train = np.argmax(y_train, axis=1)\n",
    "y_val = np.argmax(y_val, axis=1)"
   ]
  },
  {
   "cell_type": "code",
   "execution_count": 5,
   "id": "0a7f3f3e",
   "metadata": {
    "execution": {
     "iopub.execute_input": "2025-05-05T23:29:47.134947Z",
     "iopub.status.busy": "2025-05-05T23:29:47.134737Z",
     "iopub.status.idle": "2025-05-05T23:29:56.084993Z",
     "shell.execute_reply": "2025-05-05T23:29:56.083717Z"
    },
    "papermill": {
     "duration": 8.954376,
     "end_time": "2025-05-05T23:29:56.086158",
     "exception": false,
     "start_time": "2025-05-05T23:29:47.131782",
     "status": "completed"
    },
    "tags": []
   },
   "outputs": [
    {
     "name": "stdout",
     "output_type": "stream",
     "text": [
      "[LightGBM] [Info] Number of positive: 4383, number of negative: 4480\n",
      "[LightGBM] [Info] Auto-choosing col-wise multi-threading, the overhead of testing was 0.152781 seconds.\n",
      "You can set `force_col_wise=true` to remove the overhead.\n",
      "[LightGBM] [Info] Total Bins 261120\n",
      "[LightGBM] [Info] Number of data points in the train set: 8863, number of used features: 1024\n",
      "[LightGBM] [Info] [binary:BoostFromScore]: pavg=0.494528 -> initscore=-0.021890\n",
      "[LightGBM] [Info] Start training from score -0.021890\n",
      "Temps d'entraînement: 3.59 secondes\n",
      "Temps d'inférence (ensemble de validation): 0.00 secondes\n",
      "Temps moyen par image: 0.01 ms\n",
      "Accuracy: 0.7316666666666667\n",
      "              precision    recall  f1-score   support\n",
      "\n",
      "           0       0.95      0.59      0.72       360\n",
      "           1       0.60      0.95      0.74       240\n",
      "\n",
      "    accuracy                           0.73       600\n",
      "   macro avg       0.78      0.77      0.73       600\n",
      "weighted avg       0.81      0.73      0.73       600\n",
      "\n"
     ]
    }
   ],
   "source": [
    "import time\n",
    "import lightgbm as lgb\n",
    "from sklearn.metrics import classification_report, accuracy_score, confusion_matrix\n",
    "\n",
    "model = lgb.LGBMClassifier(boosting_type='dart', num_leaves=5, n_estimators=100, random_state=SEED, n_jobs=-1)\n",
    "\n",
    "start_time = time.time()\n",
    "model.fit(X_train, y_train)\n",
    "train_time = time.time() - start_time\n",
    "print(f\"Temps d'entraînement: {train_time:.2f} secondes\")\n",
    "\n",
    "start_time = time.time()\n",
    "pred_val = model.predict(X_val)\n",
    "inference_time = time.time() - start_time\n",
    "\n",
    "print(f\"Temps d'inférence (ensemble de validation): {inference_time:.2f} secondes\")\n",
    "print(f\"Temps moyen par image: {inference_time/len(X_val)*1000:.2f} ms\")\n",
    "print(\"Accuracy:\", accuracy_score(y_val, pred_val))\n",
    "print(classification_report(y_val, pred_val))"
   ]
  },
  {
   "cell_type": "code",
   "execution_count": 6,
   "id": "3fc15678",
   "metadata": {
    "execution": {
     "iopub.execute_input": "2025-05-05T23:29:56.095110Z",
     "iopub.status.busy": "2025-05-05T23:29:56.094451Z",
     "iopub.status.idle": "2025-05-05T23:29:56.613078Z",
     "shell.execute_reply": "2025-05-05T23:29:56.612252Z"
    },
    "papermill": {
     "duration": 0.52298,
     "end_time": "2025-05-05T23:29:56.614295",
     "exception": false,
     "start_time": "2025-05-05T23:29:56.091315",
     "status": "completed"
    },
    "tags": []
   },
   "outputs": [
    {
     "data": {
      "image/png": "[encoded data removed]",
      "text/plain": [
       "<Figure size 800x600 with 2 Axes>"
      ]
     },
     "metadata": {},
     "output_type": "display_data"
    }
   ],
   "source": [
    "import matplotlib.pyplot as plt\n",
    "import seaborn as sns\n",
    "\n",
    "CLASS_NAMES = list(train_generator.class_indices.keys())\n",
    "cm = confusion_matrix(y_val, pred_val)\n",
    "\n",
    "plt.figure(figsize=(8, 6))\n",
    "sns.heatmap(cm, \n",
    "            annot=True, \n",
    "            fmt='d', \n",
    "            cmap='Blues',\n",
    "            xticklabels=CLASS_NAMES,\n",
    "            yticklabels=CLASS_NAMES)\n",
    "\n",
    "plt.title('Matrice de Confusion', pad=20, fontsize=14)\n",
    "plt.xlabel('Pred', labelpad=10)\n",
    "plt.ylabel('True', labelpad=10)\n",
    "plt.xticks(rotation=0)\n",
    "plt.yticks(rotation=0)\n",
    "plt.tight_layout()\n",
    "plt.show()"
   ]
  }
 ],
 "metadata": {
  "kaggle": {
   "accelerator": "gpu",
   "dataSources": [
    {
     "datasetId": 4562384,
     "sourceId": 7793511,
     "sourceType": "datasetVersion"
    },
    {
     "datasetId": 4854718,
     "sourceId": 8201044,
     "sourceType": "datasetVersion"
    }
   ],
   "dockerImageVersionId": 31011,
   "isGpuEnabled": true,
   "isInternetEnabled": true,
   "language": "python",
   "sourceType": "notebook"
  },
  "kernelspec": {
   "display_name": "Python 3",
   "language": "python",
   "name": "python3"
  },
  "language_info": {
   "codemirror_mode": {
    "name": "ipython",
    "version": 3
   },
   "file_extension": ".py",
   "mimetype": "text/x-python",
   "name": "python",
   "nbconvert_exporter": "python",
   "pygments_lexer": "ipython3",
   "version": "3.11.11"
  },
  "papermill": {
   "default_parameters": {},
   "duration": 167.30956,
   "end_time": "2025-05-05T23:30:00.342428",
   "environment_variables": {},
   "exception": null,
   "input_path": "__notebook__.ipynb",
   "output_path": "__notebook__.ipynb",
   "parameters": {},
   "start_time": "2025-05-05T23:27:13.032868",
   "version": "2.6.0"
  }
 },
 "nbformat": 4,
 "nbformat_minor": 5
}
