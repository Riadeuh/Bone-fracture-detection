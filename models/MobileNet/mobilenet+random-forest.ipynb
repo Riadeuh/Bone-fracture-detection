{
 "cells": [
  {
   "cell_type": "code",
   "execution_count": 1,
   "id": "9f52609a",
   "metadata": {
    "execution": {
     "iopub.execute_input": "2025-05-02T19:47:06.658888Z",
     "iopub.status.busy": "2025-05-02T19:47:06.658565Z",
     "iopub.status.idle": "2025-05-02T19:47:06.667287Z",
     "shell.execute_reply": "2025-05-02T19:47:06.666248Z"
    },
    "papermill": {
     "duration": 0.014536,
     "end_time": "2025-05-02T19:47:06.669145",
     "exception": false,
     "start_time": "2025-05-02T19:47:06.654609",
     "status": "completed"
    },
    "tags": []
   },
   "outputs": [],
   "source": [
    "import os\n",
    "\n",
    "PATH = '/kaggle/input/fracture-detection-using-x-ray-images/data'\n",
    "train_dir = os.path.join(PATH, 'train')\n",
    "val_dir = os.path.join(PATH, 'val')"
   ]
  },
  {
   "cell_type": "code",
   "execution_count": 2,
   "id": "234c78b4",
   "metadata": {
    "execution": {
     "iopub.execute_input": "2025-05-02T19:47:06.675414Z",
     "iopub.status.busy": "2025-05-02T19:47:06.675031Z",
     "iopub.status.idle": "2025-05-02T19:47:35.121987Z",
     "shell.execute_reply": "2025-05-02T19:47:35.120644Z"
    },
    "papermill": {
     "duration": 28.452892,
     "end_time": "2025-05-02T19:47:35.124558",
     "exception": false,
     "start_time": "2025-05-02T19:47:06.671666",
     "status": "completed"
    },
    "tags": []
   },
   "outputs": [
    {
     "name": "stderr",
     "output_type": "stream",
     "text": [
      "2025-05-02 19:47:08.777628: E external/local_xla/xla/stream_executor/cuda/cuda_fft.cc:477] Unable to register cuFFT factory: Attempting to register factory for plugin cuFFT when one has already been registered\n",
      "WARNING: All log messages before absl::InitializeLog() is called are written to STDERR\n",
      "E0000 00:00:1746215229.084760      13 cuda_dnn.cc:8310] Unable to register cuDNN factory: Attempting to register factory for plugin cuDNN when one has already been registered\n",
      "E0000 00:00:1746215229.168810      13 cuda_blas.cc:1418] Unable to register cuBLAS factory: Attempting to register factory for plugin cuBLAS when one has already been registered\n"
     ]
    },
    {
     "name": "stdout",
     "output_type": "stream",
     "text": [
      "Found 8863 images belonging to 2 classes.\n",
      "Found 600 images belonging to 2 classes.\n"
     ]
    }
   ],
   "source": [
    "from tensorflow.keras.preprocessing.image import ImageDataGenerator\n",
    "\n",
    "IMG_SIZE = (224, 224)\n",
    "BATCH_SIZE = 32\n",
    "SEED = 42\n",
    "\n",
    "datagen = ImageDataGenerator(rescale=1./255)\n",
    "\n",
    "train_generator = datagen.flow_from_directory(\n",
    "    train_dir,\n",
    "    target_size=IMG_SIZE,\n",
    "    batch_size=BATCH_SIZE,\n",
    "    shuffle=True,\n",
    "    seed=SEED\n",
    ")\n",
    "\n",
    "val_generator = datagen.flow_from_directory(\n",
    "    val_dir,\n",
    "    target_size=IMG_SIZE,\n",
    "    batch_size=BATCH_SIZE,\n",
    "    shuffle=False,\n",
    "    seed=SEED\n",
    ")"
   ]
  },
  {
   "cell_type": "code",
   "execution_count": 3,
   "id": "9cac90de",
   "metadata": {
    "execution": {
     "iopub.execute_input": "2025-05-02T19:47:35.132645Z",
     "iopub.status.busy": "2025-05-02T19:47:35.131979Z",
     "iopub.status.idle": "2025-05-02T19:47:36.903755Z",
     "shell.execute_reply": "2025-05-02T19:47:36.902629Z"
    },
    "papermill": {
     "duration": 1.777828,
     "end_time": "2025-05-02T19:47:36.905443",
     "exception": false,
     "start_time": "2025-05-02T19:47:35.127615",
     "status": "completed"
    },
    "tags": []
   },
   "outputs": [
    {
     "name": "stderr",
     "output_type": "stream",
     "text": [
      "2025-05-02 19:47:35.155086: E external/local_xla/xla/stream_executor/cuda/cuda_driver.cc:152] failed call to cuInit: INTERNAL: CUDA error: Failed call to cuInit: UNKNOWN ERROR (303)\n"
     ]
    }
   ],
   "source": [
    "import tensorflow as tf\n",
    "from tensorflow.keras.applications import EfficientNetB0\n",
    "from tensorflow.keras.applications import MobileNetV2\n",
    "from tensorflow.keras.layers import GlobalAveragePooling2D\n",
    "\n",
    "base_model = MobileNetV2(input_shape=IMG_SIZE + (3,), include_top=False, weights='/kaggle/input/mobilenet-v2/mobilenet_v2_weights_tf_dim_ordering_tf_kernels_1.0_224_no_top.h5')\n",
    "base_model.trainable = False\n",
    "feature_extractor = tf.keras.Sequential([base_model, GlobalAveragePooling2D()])"
   ]
  },
  {
   "cell_type": "code",
   "execution_count": 4,
   "id": "920e7a2b",
   "metadata": {
    "execution": {
     "iopub.execute_input": "2025-05-02T19:47:36.911977Z",
     "iopub.status.busy": "2025-05-02T19:47:36.911681Z",
     "iopub.status.idle": "2025-05-02T19:53:31.051308Z",
     "shell.execute_reply": "2025-05-02T19:53:31.050253Z"
    },
    "papermill": {
     "duration": 354.145385,
     "end_time": "2025-05-02T19:53:31.053403",
     "exception": false,
     "start_time": "2025-05-02T19:47:36.908018",
     "status": "completed"
    },
    "tags": []
   },
   "outputs": [],
   "source": [
    "import numpy as np\n",
    "from PIL import ImageFile\n",
    "\n",
    "ImageFile.LOAD_TRUNCATED_IMAGES = True\n",
    "\n",
    "def extract_features(generator):\n",
    "    features = []\n",
    "    labels = []\n",
    "    for i in range(len(generator)):\n",
    "        batch_images, batch_labels = generator[i]\n",
    "        batch_features = feature_extractor.predict(batch_images, verbose=0)\n",
    "        features.extend(batch_features)\n",
    "        labels.extend(batch_labels)\n",
    "    return np.array(features), np.array(labels)\n",
    "\n",
    "\n",
    "X_train, y_train = extract_features(train_generator)\n",
    "X_val, y_val = extract_features(val_generator)\n",
    "#X_test, y_test = extract_features(test_generator)\n",
    "\n",
    "y_train = np.argmax(y_train, axis=1)\n",
    "y_val = np.argmax(y_val, axis=1)\n",
    "#y_test = np.argmax(y_test, axis=1)"
   ]
  },
  {
   "cell_type": "code",
   "execution_count": 5,
   "id": "74b51178",
   "metadata": {
    "execution": {
     "iopub.execute_input": "2025-05-02T19:53:31.060196Z",
     "iopub.status.busy": "2025-05-02T19:53:31.059887Z",
     "iopub.status.idle": "2025-05-02T19:53:43.106798Z",
     "shell.execute_reply": "2025-05-02T19:53:43.105509Z"
    },
    "papermill": {
     "duration": 12.052026,
     "end_time": "2025-05-02T19:53:43.108295",
     "exception": false,
     "start_time": "2025-05-02T19:53:31.056269",
     "status": "completed"
    },
    "tags": []
   },
   "outputs": [
    {
     "name": "stdout",
     "output_type": "stream",
     "text": [
      "Val Accuracy: 0.77\n",
      "              precision    recall  f1-score   support\n",
      "\n",
      "           0       0.83      0.77      0.80       360\n",
      "           1       0.69      0.77      0.73       240\n",
      "\n",
      "    accuracy                           0.77       600\n",
      "   macro avg       0.76      0.77      0.76       600\n",
      "weighted avg       0.78      0.77      0.77       600\n",
      "\n"
     ]
    }
   ],
   "source": [
    "from sklearn.ensemble import RandomForestClassifier\n",
    "from sklearn.metrics import classification_report, accuracy_score, confusion_matrix\n",
    "\n",
    "model = RandomForestClassifier(random_state=SEED, n_jobs=-1)\n",
    "model.fit(X_train, y_train)\n",
    "\n",
    "pred_val = model.predict(X_val)\n",
    "print(\"Val Accuracy:\", accuracy_score(y_val, pred_val))\n",
    "print(classification_report(y_val, pred_val))"
   ]
  },
  {
   "cell_type": "code",
   "execution_count": 6,
   "id": "d5695d07",
   "metadata": {
    "execution": {
     "iopub.execute_input": "2025-05-02T19:53:43.114501Z",
     "iopub.status.busy": "2025-05-02T19:53:43.113851Z",
     "iopub.status.idle": "2025-05-02T19:53:43.961784Z",
     "shell.execute_reply": "2025-05-02T19:53:43.960718Z"
    },
    "papermill": {
     "duration": 0.852956,
     "end_time": "2025-05-02T19:53:43.963645",
     "exception": false,
     "start_time": "2025-05-02T19:53:43.110689",
     "status": "completed"
    },
    "tags": []
   },
   "outputs": [
    {
     "data": {
      "image/png": "[encoded data removed]",
      "text/plain": [
       "<Figure size 800x600 with 2 Axes>"
      ]
     },
     "metadata": {},
     "output_type": "display_data"
    }
   ],
   "source": [
    "import matplotlib.pyplot as plt\n",
    "import seaborn as sns\n",
    "\n",
    "CLASS_NAMES = list(train_generator.class_indices.keys())\n",
    "cm = confusion_matrix(y_val, pred_val)\n",
    "\n",
    "plt.figure(figsize=(8, 6))\n",
    "sns.heatmap(cm, \n",
    "            annot=True, \n",
    "            fmt='d', \n",
    "            cmap='Blues',\n",
    "            xticklabels=CLASS_NAMES,\n",
    "            yticklabels=CLASS_NAMES)\n",
    "\n",
    "plt.title('Matrice de Confusion (Test)', pad=20, fontsize=14)\n",
    "plt.xlabel('Pred', labelpad=10)\n",
    "plt.ylabel('True', labelpad=10)\n",
    "plt.xticks(rotation=0)\n",
    "plt.yticks(rotation=0)\n",
    "plt.tight_layout()\n",
    "plt.show()"
   ]
  }
 ],
 "metadata": {
  "kaggle": {
   "accelerator": "gpu",
   "dataSources": [
    {
     "datasetId": 4562384,
     "sourceId": 7793511,
     "sourceType": "datasetVersion"
    },
    {
     "datasetId": 7295160,
     "sourceId": 11627771,
     "sourceType": "datasetVersion"
    }
   ],
   "dockerImageVersionId": 31012,
   "isGpuEnabled": true,
   "isInternetEnabled": false,
   "language": "python",
   "sourceType": "notebook"
  },
  "kernelspec": {
   "display_name": "Python 3",
   "language": "python",
   "name": "python3"
  },
  "language_info": {
   "codemirror_mode": {
    "name": "ipython",
    "version": 3
   },
   "file_extension": ".py",
   "mimetype": "text/x-python",
   "name": "python",
   "nbconvert_exporter": "python",
   "pygments_lexer": "ipython3",
   "version": "3.11.11"
  },
  "papermill": {
   "default_parameters": {},
   "duration": 405.765547,
   "end_time": "2025-05-02T19:53:46.712381",
   "environment_variables": {},
   "exception": null,
   "input_path": "__notebook__.ipynb",
   "output_path": "__notebook__.ipynb",
   "parameters": {},
   "start_time": "2025-05-02T19:47:00.946834",
   "version": "2.6.0"
  }
 },
 "nbformat": 4,
 "nbformat_minor": 5
}
