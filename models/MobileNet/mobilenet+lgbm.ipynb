{
 "cells": [
  {
   "cell_type": "code",
   "execution_count": 1,
   "id": "16e03ebb",
   "metadata": {
    "execution": {
     "iopub.execute_input": "2025-05-05T21:17:12.622951Z",
     "iopub.status.busy": "2025-05-05T21:17:12.622558Z",
     "iopub.status.idle": "2025-05-05T21:17:12.631532Z",
     "shell.execute_reply": "2025-05-05T21:17:12.630541Z"
    },
    "papermill": {
     "duration": 0.015097,
     "end_time": "2025-05-05T21:17:12.633523",
     "exception": false,
     "start_time": "2025-05-05T21:17:12.618426",
     "status": "completed"
    },
    "tags": []
   },
   "outputs": [],
   "source": [
    "import os\n",
    "\n",
    "PATH = '/kaggle/input/fracture-detection-using-x-ray-images/data'\n",
    "train_dir = os.path.join(PATH, 'train')\n",
    "val_dir = os.path.join(PATH, 'val')"
   ]
  },
  {
   "cell_type": "code",
   "execution_count": 2,
   "id": "95b0a678",
   "metadata": {
    "execution": {
     "iopub.execute_input": "2025-05-05T21:17:12.639780Z",
     "iopub.status.busy": "2025-05-05T21:17:12.639379Z",
     "iopub.status.idle": "2025-05-05T21:17:36.392539Z",
     "shell.execute_reply": "2025-05-05T21:17:36.391544Z"
    },
    "papermill": {
     "duration": 23.757873,
     "end_time": "2025-05-05T21:17:36.394151",
     "exception": false,
     "start_time": "2025-05-05T21:17:12.636278",
     "status": "completed"
    },
    "tags": []
   },
   "outputs": [
    {
     "name": "stderr",
     "output_type": "stream",
     "text": [
      "2025-05-05 21:17:14.566417: E external/local_xla/xla/stream_executor/cuda/cuda_fft.cc:477] Unable to register cuFFT factory: Attempting to register factory for plugin cuFFT when one has already been registered\n",
      "WARNING: All log messages before absl::InitializeLog() is called are written to STDERR\n",
      "E0000 00:00:1746479834.868529      13 cuda_dnn.cc:8310] Unable to register cuDNN factory: Attempting to register factory for plugin cuDNN when one has already been registered\n",
      "E0000 00:00:1746479834.950342      13 cuda_blas.cc:1418] Unable to register cuBLAS factory: Attempting to register factory for plugin cuBLAS when one has already been registered\n"
     ]
    },
    {
     "name": "stdout",
     "output_type": "stream",
     "text": [
      "Found 8863 images belonging to 2 classes.\n",
      "Found 600 images belonging to 2 classes.\n"
     ]
    }
   ],
   "source": [
    "from tensorflow.keras.preprocessing.image import ImageDataGenerator\n",
    "\n",
    "IMG_SIZE = (224, 224)\n",
    "BATCH_SIZE = 32\n",
    "SEED = 42\n",
    "\n",
    "datagen = ImageDataGenerator(rescale=1./255)\n",
    "\n",
    "train_generator = datagen.flow_from_directory(\n",
    "    train_dir,\n",
    "    target_size=IMG_SIZE,\n",
    "    batch_size=BATCH_SIZE,\n",
    "    shuffle=True,\n",
    "    seed=SEED\n",
    ")\n",
    "\n",
    "val_generator = datagen.flow_from_directory(\n",
    "    val_dir,\n",
    "    target_size=IMG_SIZE,\n",
    "    batch_size=BATCH_SIZE,\n",
    "    shuffle=False,\n",
    "    seed=SEED\n",
    ")"
   ]
  },
  {
   "cell_type": "code",
   "execution_count": 3,
   "id": "8019996e",
   "metadata": {
    "execution": {
     "iopub.execute_input": "2025-05-05T21:17:36.400908Z",
     "iopub.status.busy": "2025-05-05T21:17:36.400259Z",
     "iopub.status.idle": "2025-05-05T21:17:38.198157Z",
     "shell.execute_reply": "2025-05-05T21:17:38.197177Z"
    },
    "papermill": {
     "duration": 1.803237,
     "end_time": "2025-05-05T21:17:38.200119",
     "exception": false,
     "start_time": "2025-05-05T21:17:36.396882",
     "status": "completed"
    },
    "tags": []
   },
   "outputs": [
    {
     "name": "stderr",
     "output_type": "stream",
     "text": [
      "2025-05-05 21:17:36.423906: E external/local_xla/xla/stream_executor/cuda/cuda_driver.cc:152] failed call to cuInit: INTERNAL: CUDA error: Failed call to cuInit: UNKNOWN ERROR (303)\n"
     ]
    }
   ],
   "source": [
    "import tensorflow as tf\n",
    "from tensorflow.keras.applications import MobileNetV2\n",
    "from tensorflow.keras.layers import GlobalAveragePooling2D, Input, Dense, Dropout\n",
    "from tensorflow.keras.models import Model\n",
    "\n",
    "base_model = MobileNetV2(input_shape=IMG_SIZE + (3,), include_top=False, weights='/kaggle/input/mobilenet-v2/mobilenet_v2_weights_tf_dim_ordering_tf_kernels_1.0_224_no_top.h5')\n",
    "base_model.trainable = False\n",
    "feature_extractor = tf.keras.Sequential([base_model, GlobalAveragePooling2D()])"
   ]
  },
  {
   "cell_type": "code",
   "execution_count": 4,
   "id": "e4a01466",
   "metadata": {
    "execution": {
     "iopub.execute_input": "2025-05-05T21:17:38.207016Z",
     "iopub.status.busy": "2025-05-05T21:17:38.206685Z",
     "iopub.status.idle": "2025-05-05T21:23:00.880765Z",
     "shell.execute_reply": "2025-05-05T21:23:00.879717Z"
    },
    "papermill": {
     "duration": 322.680115,
     "end_time": "2025-05-05T21:23:00.882855",
     "exception": false,
     "start_time": "2025-05-05T21:17:38.202740",
     "status": "completed"
    },
    "tags": []
   },
   "outputs": [],
   "source": [
    "import numpy as np\n",
    "from PIL import ImageFile\n",
    "\n",
    "ImageFile.LOAD_TRUNCATED_IMAGES = True\n",
    "\n",
    "def extract_features(generator):\n",
    "    features = []\n",
    "    labels = []\n",
    "    for i in range(len(generator)):\n",
    "        batch_images, batch_labels = generator[i]\n",
    "        batch_features = feature_extractor.predict(batch_images, verbose=0)\n",
    "        features.extend(batch_features)\n",
    "        labels.extend(batch_labels)\n",
    "    return np.array(features), np.array(labels)\n",
    "\n",
    "\n",
    "X_train, y_train = extract_features(train_generator)\n",
    "X_val, y_val = extract_features(val_generator)\n",
    "\n",
    "y_train = np.argmax(y_train, axis=1)\n",
    "y_val = np.argmax(y_val, axis=1)"
   ]
  },
  {
   "cell_type": "code",
   "execution_count": 5,
   "id": "dfb2005f",
   "metadata": {
    "execution": {
     "iopub.execute_input": "2025-05-05T21:23:00.889671Z",
     "iopub.status.busy": "2025-05-05T21:23:00.889327Z",
     "iopub.status.idle": "2025-05-05T21:23:13.797947Z",
     "shell.execute_reply": "2025-05-05T21:23:13.796992Z"
    },
    "papermill": {
     "duration": 12.91387,
     "end_time": "2025-05-05T21:23:13.799627",
     "exception": false,
     "start_time": "2025-05-05T21:23:00.885757",
     "status": "completed"
    },
    "tags": []
   },
   "outputs": [
    {
     "name": "stdout",
     "output_type": "stream",
     "text": [
      "[LightGBM] [Info] Number of positive: 4383, number of negative: 4480\n",
      "[LightGBM] [Info] Auto-choosing col-wise multi-threading, the overhead of testing was 0.217642 seconds.\n",
      "You can set `force_col_wise=true` to remove the overhead.\n",
      "[LightGBM] [Info] Total Bins 324313\n",
      "[LightGBM] [Info] Number of data points in the train set: 8863, number of used features: 1280\n",
      "[LightGBM] [Info] [binary:BoostFromScore]: pavg=0.494528 -> initscore=-0.021890\n",
      "[LightGBM] [Info] Start training from score -0.021890\n",
      "Temps d'entraînement: 4.99 secondes\n",
      "Temps d'inférence (ensemble de validation): 0.01 secondes\n",
      "Temps moyen par image: 0.01 ms\n",
      "Accuracy: 0.7016666666666667\n",
      "              precision    recall  f1-score   support\n",
      "\n",
      "           0       0.82      0.65      0.72       360\n",
      "           1       0.60      0.78      0.68       240\n",
      "\n",
      "    accuracy                           0.70       600\n",
      "   macro avg       0.71      0.71      0.70       600\n",
      "weighted avg       0.73      0.70      0.70       600\n",
      "\n"
     ]
    }
   ],
   "source": [
    "import time\n",
    "import lightgbm as lgb\n",
    "from sklearn.metrics import classification_report, accuracy_score, confusion_matrix\n",
    "\n",
    "model = lgb.LGBMClassifier(boosting_type='dart', num_leaves=5, n_estimators=125, random_state=42, n_jobs=-1)\n",
    "\n",
    "start_time = time.time()\n",
    "model.fit(X_train, y_train)\n",
    "train_time = time.time() - start_time\n",
    "print(f\"Temps d'entraînement: {train_time:.2f} secondes\")\n",
    "\n",
    "start_time = time.time()\n",
    "pred_val = model.predict(X_val)\n",
    "inference_time = time.time() - start_time\n",
    "print(f\"Temps d'inférence (ensemble de validation): {inference_time:.2f} secondes\")\n",
    "print(f\"Temps moyen par image: {inference_time/len(X_val)*1000:.2f} ms\")\n",
    "\n",
    "print(\"Accuracy:\", accuracy_score(y_val, pred_val))\n",
    "print(classification_report(y_val, pred_val))"
   ]
  },
  {
   "cell_type": "code",
   "execution_count": 6,
   "id": "b966161b",
   "metadata": {
    "execution": {
     "iopub.execute_input": "2025-05-05T21:23:13.806838Z",
     "iopub.status.busy": "2025-05-05T21:23:13.805901Z",
     "iopub.status.idle": "2025-05-05T21:23:14.510601Z",
     "shell.execute_reply": "2025-05-05T21:23:14.509648Z"
    },
    "papermill": {
     "duration": 0.710164,
     "end_time": "2025-05-05T21:23:14.512513",
     "exception": false,
     "start_time": "2025-05-05T21:23:13.802349",
     "status": "completed"
    },
    "tags": []
   },
   "outputs": [
    {
     "data": {
      "image/png": "[encoded data removed]",
      "text/plain": [
       "<Figure size 800x600 with 2 Axes>"
      ]
     },
     "metadata": {},
     "output_type": "display_data"
    }
   ],
   "source": [
    "import matplotlib.pyplot as plt\n",
    "import seaborn as sns\n",
    "\n",
    "CLASS_NAMES = list(train_generator.class_indices.keys())\n",
    "cm = confusion_matrix(y_val, pred_val)\n",
    "\n",
    "plt.figure(figsize=(8, 6))\n",
    "sns.heatmap(cm, \n",
    "            annot=True, \n",
    "            fmt='d', \n",
    "            cmap='Blues',\n",
    "            xticklabels=CLASS_NAMES,\n",
    "            yticklabels=CLASS_NAMES)\n",
    "\n",
    "plt.title('Matrice de Confusion', pad=20, fontsize=14)\n",
    "plt.xlabel('Pred', labelpad=10)\n",
    "plt.ylabel('True', labelpad=10)\n",
    "plt.xticks(rotation=0)\n",
    "plt.yticks(rotation=0)\n",
    "plt.tight_layout()\n",
    "plt.show()"
   ]
  },
  {
   "cell_type": "code",
   "execution_count": 7,
   "id": "4df6bc54",
   "metadata": {
    "execution": {
     "iopub.execute_input": "2025-05-05T21:23:14.521126Z",
     "iopub.status.busy": "2025-05-05T21:23:14.520247Z",
     "iopub.status.idle": "2025-05-05T21:23:14.532414Z",
     "shell.execute_reply": "2025-05-05T21:23:14.530914Z"
    },
    "papermill": {
     "duration": 0.018596,
     "end_time": "2025-05-05T21:23:14.534598",
     "exception": false,
     "start_time": "2025-05-05T21:23:14.516002",
     "status": "completed"
    },
    "tags": []
   },
   "outputs": [
    {
     "data": {
      "text/plain": [
       "['MobileNet.pkl']"
      ]
     },
     "execution_count": 7,
     "metadata": {},
     "output_type": "execute_result"
    }
   ],
   "source": [
    "import joblib\n",
    "joblib.dump(model, 'MobileNet.pkl')"
   ]
  }
 ],
 "metadata": {
  "kaggle": {
   "accelerator": "none",
   "dataSources": [
    {
     "datasetId": 4562384,
     "sourceId": 7793511,
     "sourceType": "datasetVersion"
    },
    {
     "datasetId": 7295160,
     "sourceId": 11627771,
     "sourceType": "datasetVersion"
    }
   ],
   "dockerImageVersionId": 31012,
   "isGpuEnabled": false,
   "isInternetEnabled": false,
   "language": "python",
   "sourceType": "notebook"
  },
  "kernelspec": {
   "display_name": "Python 3",
   "language": "python",
   "name": "python3"
  },
  "language_info": {
   "codemirror_mode": {
    "name": "ipython",
    "version": 3
   },
   "file_extension": ".py",
   "mimetype": "text/x-python",
   "name": "python",
   "nbconvert_exporter": "python",
   "pygments_lexer": "ipython3",
   "version": "3.11.11"
  },
  "papermill": {
   "default_parameters": {},
   "duration": 370.572349,
   "end_time": "2025-05-05T21:23:17.997241",
   "environment_variables": {},
   "exception": null,
   "input_path": "__notebook__.ipynb",
   "output_path": "__notebook__.ipynb",
   "parameters": {},
   "start_time": "2025-05-05T21:17:07.424892",
   "version": "2.6.0"
  }
 },
 "nbformat": 4,
 "nbformat_minor": 5
}
