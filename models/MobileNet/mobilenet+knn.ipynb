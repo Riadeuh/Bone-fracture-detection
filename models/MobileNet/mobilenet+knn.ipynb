{
 "cells": [
  {
   "cell_type": "code",
   "execution_count": 1,
   "id": "bbd51ad7",
   "metadata": {
    "execution": {
     "iopub.execute_input": "2025-05-05T21:03:49.820787Z",
     "iopub.status.busy": "2025-05-05T21:03:49.820426Z",
     "iopub.status.idle": "2025-05-05T21:03:49.830478Z",
     "shell.execute_reply": "2025-05-05T21:03:49.828748Z"
    },
    "papermill": {
     "duration": 0.017406,
     "end_time": "2025-05-05T21:03:49.833159",
     "exception": false,
     "start_time": "2025-05-05T21:03:49.815753",
     "status": "completed"
    },
    "tags": []
   },
   "outputs": [],
   "source": [
    "import os\n",
    "\n",
    "PATH = '/kaggle/input/fracture-detection-using-x-ray-images/data'\n",
    "train_dir = os.path.join(PATH, 'train')\n",
    "val_dir = os.path.join(PATH, 'val')"
   ]
  },
  {
   "cell_type": "code",
   "execution_count": 2,
   "id": "422eb206",
   "metadata": {
    "execution": {
     "iopub.execute_input": "2025-05-05T21:03:49.840129Z",
     "iopub.status.busy": "2025-05-05T21:03:49.839738Z",
     "iopub.status.idle": "2025-05-05T21:04:19.933716Z",
     "shell.execute_reply": "2025-05-05T21:04:19.932234Z"
    },
    "papermill": {
     "duration": 30.099049,
     "end_time": "2025-05-05T21:04:19.935459",
     "exception": false,
     "start_time": "2025-05-05T21:03:49.836410",
     "status": "completed"
    },
    "tags": []
   },
   "outputs": [
    {
     "name": "stderr",
     "output_type": "stream",
     "text": [
      "2025-05-05 21:03:52.156757: E external/local_xla/xla/stream_executor/cuda/cuda_fft.cc:477] Unable to register cuFFT factory: Attempting to register factory for plugin cuFFT when one has already been registered\n",
      "WARNING: All log messages before absl::InitializeLog() is called are written to STDERR\n",
      "E0000 00:00:1746479032.463362      13 cuda_dnn.cc:8310] Unable to register cuDNN factory: Attempting to register factory for plugin cuDNN when one has already been registered\n",
      "E0000 00:00:1746479032.559751      13 cuda_blas.cc:1418] Unable to register cuBLAS factory: Attempting to register factory for plugin cuBLAS when one has already been registered\n"
     ]
    },
    {
     "name": "stdout",
     "output_type": "stream",
     "text": [
      "Found 8863 images belonging to 2 classes.\n",
      "Found 600 images belonging to 2 classes.\n"
     ]
    }
   ],
   "source": [
    "from tensorflow.keras.preprocessing.image import ImageDataGenerator\n",
    "\n",
    "IMG_SIZE = (224, 224)\n",
    "BATCH_SIZE = 32\n",
    "SEED = 42\n",
    "\n",
    "datagen = ImageDataGenerator(rescale=1./255)\n",
    "\n",
    "train_generator = datagen.flow_from_directory(\n",
    "    train_dir,\n",
    "    target_size=IMG_SIZE,\n",
    "    batch_size=BATCH_SIZE,\n",
    "    shuffle=True,\n",
    "    seed=SEED\n",
    ")\n",
    "\n",
    "val_generator = datagen.flow_from_directory(\n",
    "    val_dir,\n",
    "    target_size=IMG_SIZE,\n",
    "    batch_size=BATCH_SIZE,\n",
    "    shuffle=False,\n",
    "    seed=SEED\n",
    ")"
   ]
  },
  {
   "cell_type": "code",
   "execution_count": 3,
   "id": "3a7fafb7",
   "metadata": {
    "execution": {
     "iopub.execute_input": "2025-05-05T21:04:19.942016Z",
     "iopub.status.busy": "2025-05-05T21:04:19.941432Z",
     "iopub.status.idle": "2025-05-05T21:04:21.930175Z",
     "shell.execute_reply": "2025-05-05T21:04:21.928985Z"
    },
    "papermill": {
     "duration": 1.994243,
     "end_time": "2025-05-05T21:04:21.932165",
     "exception": false,
     "start_time": "2025-05-05T21:04:19.937922",
     "status": "completed"
    },
    "tags": []
   },
   "outputs": [
    {
     "name": "stderr",
     "output_type": "stream",
     "text": [
      "2025-05-05 21:04:19.965798: E external/local_xla/xla/stream_executor/cuda/cuda_driver.cc:152] failed call to cuInit: INTERNAL: CUDA error: Failed call to cuInit: UNKNOWN ERROR (303)\n"
     ]
    }
   ],
   "source": [
    "import tensorflow as tf\n",
    "from tensorflow.keras.applications import MobileNetV2\n",
    "from tensorflow.keras.layers import GlobalAveragePooling2D, Input, Dense, Dropout\n",
    "from tensorflow.keras.models import Model\n",
    "\n",
    "base_model = MobileNetV2(input_shape=IMG_SIZE + (3,), include_top=False, weights='/kaggle/input/mobilenet-v2/mobilenet_v2_weights_tf_dim_ordering_tf_kernels_1.0_224_no_top.h5')\n",
    "base_model.trainable = False\n",
    "feature_extractor = tf.keras.Sequential([base_model, GlobalAveragePooling2D()])"
   ]
  },
  {
   "cell_type": "code",
   "execution_count": 4,
   "id": "a8d0a651",
   "metadata": {
    "execution": {
     "iopub.execute_input": "2025-05-05T21:04:21.938812Z",
     "iopub.status.busy": "2025-05-05T21:04:21.938466Z",
     "iopub.status.idle": "2025-05-05T21:09:52.680772Z",
     "shell.execute_reply": "2025-05-05T21:09:52.679396Z"
    },
    "papermill": {
     "duration": 330.748741,
     "end_time": "2025-05-05T21:09:52.683641",
     "exception": false,
     "start_time": "2025-05-05T21:04:21.934900",
     "status": "completed"
    },
    "tags": []
   },
   "outputs": [],
   "source": [
    "import numpy as np\n",
    "from PIL import ImageFile\n",
    "\n",
    "ImageFile.LOAD_TRUNCATED_IMAGES = True\n",
    "\n",
    "def extract_features(generator):\n",
    "    features = []\n",
    "    labels = []\n",
    "    for i in range(len(generator)):\n",
    "        batch_images, batch_labels = generator[i]\n",
    "        batch_features = feature_extractor.predict(batch_images, verbose=0)\n",
    "        features.extend(batch_features)\n",
    "        labels.extend(batch_labels)\n",
    "    return np.array(features), np.array(labels)\n",
    "\n",
    "\n",
    "X_train, y_train = extract_features(train_generator)\n",
    "X_val, y_val = extract_features(val_generator)\n",
    "\n",
    "y_train = np.argmax(y_train, axis=1)\n",
    "y_val = np.argmax(y_val, axis=1)"
   ]
  },
  {
   "cell_type": "code",
   "execution_count": 5,
   "id": "6cd53a43",
   "metadata": {
    "execution": {
     "iopub.execute_input": "2025-05-05T21:09:52.694750Z",
     "iopub.status.busy": "2025-05-05T21:09:52.693038Z",
     "iopub.status.idle": "2025-05-05T21:09:54.743311Z",
     "shell.execute_reply": "2025-05-05T21:09:54.741987Z"
    },
    "papermill": {
     "duration": 2.057582,
     "end_time": "2025-05-05T21:09:54.745426",
     "exception": false,
     "start_time": "2025-05-05T21:09:52.687844",
     "status": "completed"
    },
    "tags": []
   },
   "outputs": [
    {
     "name": "stdout",
     "output_type": "stream",
     "text": [
      "Temps d'entraînement: 0.01 secondes\n",
      "Temps d'inférence (ensemble de validation): 0.34 secondes\n",
      "Temps moyen par image: 0.56 ms\n",
      "Accuracy: 0.705\n",
      "              precision    recall  f1-score   support\n",
      "\n",
      "           0       0.90      0.57      0.70       360\n",
      "           1       0.58      0.90      0.71       240\n",
      "\n",
      "    accuracy                           0.70       600\n",
      "   macro avg       0.74      0.74      0.70       600\n",
      "weighted avg       0.77      0.70      0.70       600\n",
      "\n"
     ]
    }
   ],
   "source": [
    "import time\n",
    "from sklearn.neighbors import KNeighborsClassifier\n",
    "from sklearn.metrics import classification_report, accuracy_score, confusion_matrix\n",
    "\n",
    "model = KNeighborsClassifier(n_neighbors=19, metric='euclidean', n_jobs=-1)\n",
    "\n",
    "start_time = time.time()\n",
    "model.fit(X_train, y_train)\n",
    "train_time = time.time() - start_time\n",
    "print(f\"Temps d'entraînement: {train_time:.2f} secondes\")\n",
    "\n",
    "start_time = time.time()\n",
    "pred_val = model.predict(X_val)\n",
    "inference_time = time.time() - start_time\n",
    "print(f\"Temps d'inférence (ensemble de validation): {inference_time:.2f} secondes\")\n",
    "print(f\"Temps moyen par image: {inference_time/len(X_val)*1000:.2f} ms\")\n",
    "\n",
    "print(\"Accuracy:\", accuracy_score(y_val, pred_val))\n",
    "print(classification_report(y_val, pred_val))"
   ]
  },
  {
   "cell_type": "code",
   "execution_count": 6,
   "id": "71cc241e",
   "metadata": {
    "execution": {
     "iopub.execute_input": "2025-05-05T21:09:54.752322Z",
     "iopub.status.busy": "2025-05-05T21:09:54.751702Z",
     "iopub.status.idle": "2025-05-05T21:09:55.686412Z",
     "shell.execute_reply": "2025-05-05T21:09:55.685250Z"
    },
    "papermill": {
     "duration": 0.940103,
     "end_time": "2025-05-05T21:09:55.688313",
     "exception": false,
     "start_time": "2025-05-05T21:09:54.748210",
     "status": "completed"
    },
    "tags": []
   },
   "outputs": [
    {
     "data": {
      "image/png": "[encoded data removed]",
      "text/plain": [
       "<Figure size 800x600 with 2 Axes>"
      ]
     },
     "metadata": {},
     "output_type": "display_data"
    }
   ],
   "source": [
    "import matplotlib.pyplot as plt\n",
    "import seaborn as sns\n",
    "\n",
    "CLASS_NAMES = list(train_generator.class_indices.keys())\n",
    "cm = confusion_matrix(y_val, pred_val)\n",
    "\n",
    "plt.figure(figsize=(8, 6))\n",
    "sns.heatmap(cm, \n",
    "            annot=True, \n",
    "            fmt='d', \n",
    "            cmap='Blues',\n",
    "            xticklabels=CLASS_NAMES,\n",
    "            yticklabels=CLASS_NAMES)\n",
    "\n",
    "plt.title('Matrice de Confusion', pad=20, fontsize=14)\n",
    "plt.xlabel('Pred', labelpad=10)\n",
    "plt.ylabel('True', labelpad=10)\n",
    "plt.xticks(rotation=0)\n",
    "plt.yticks(rotation=0)\n",
    "plt.tight_layout()\n",
    "plt.show()"
   ]
  }
 ],
 "metadata": {
  "kaggle": {
   "accelerator": "none",
   "dataSources": [
    {
     "datasetId": 4562384,
     "sourceId": 7793511,
     "sourceType": "datasetVersion"
    },
    {
     "datasetId": 7295160,
     "sourceId": 11627771,
     "sourceType": "datasetVersion"
    }
   ],
   "dockerImageVersionId": 31012,
   "isGpuEnabled": false,
   "isInternetEnabled": false,
   "language": "python",
   "sourceType": "notebook"
  },
  "kernelspec": {
   "display_name": "Python 3",
   "language": "python",
   "name": "python3"
  },
  "language_info": {
   "codemirror_mode": {
    "name": "ipython",
    "version": 3
   },
   "file_extension": ".py",
   "mimetype": "text/x-python",
   "name": "python",
   "nbconvert_exporter": "python",
   "pygments_lexer": "ipython3",
   "version": "3.11.11"
  },
  "papermill": {
   "default_parameters": {},
   "duration": 374.671832,
   "end_time": "2025-05-05T21:09:58.962852",
   "environment_variables": {},
   "exception": null,
   "input_path": "__notebook__.ipynb",
   "output_path": "__notebook__.ipynb",
   "parameters": {},
   "start_time": "2025-05-05T21:03:44.291020",
   "version": "2.6.0"
  }
 },
 "nbformat": 4,
 "nbformat_minor": 5
}
