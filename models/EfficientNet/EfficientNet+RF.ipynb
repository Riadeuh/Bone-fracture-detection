{
 "cells": [
  {
   "cell_type": "code",
   "execution_count": 1,
   "id": "4a7ce747",
   "metadata": {
    "execution": {
     "iopub.execute_input": "2025-05-03T11:02:04.963484Z",
     "iopub.status.busy": "2025-05-03T11:02:04.962897Z",
     "iopub.status.idle": "2025-05-03T11:02:04.969084Z",
     "shell.execute_reply": "2025-05-03T11:02:04.968602Z"
    },
    "papermill": {
     "duration": 0.010381,
     "end_time": "2025-05-03T11:02:04.970110",
     "exception": false,
     "start_time": "2025-05-03T11:02:04.959729",
     "status": "completed"
    },
    "tags": []
   },
   "outputs": [],
   "source": [
    "import os\n",
    "\n",
    "PATH = '/kaggle/input/fracture-detection-using-x-ray-images/data'\n",
    "train_dir = os.path.join(PATH, 'train')\n",
    "val_dir = os.path.join(PATH, 'val')"
   ]
  },
  {
   "cell_type": "code",
   "execution_count": 2,
   "id": "accd3751",
   "metadata": {
    "execution": {
     "iopub.execute_input": "2025-05-03T11:02:04.974182Z",
     "iopub.status.busy": "2025-05-03T11:02:04.974013Z",
     "iopub.status.idle": "2025-05-03T11:02:26.884079Z",
     "shell.execute_reply": "2025-05-03T11:02:26.883523Z"
    },
    "papermill": {
     "duration": 21.91317,
     "end_time": "2025-05-03T11:02:26.885174",
     "exception": false,
     "start_time": "2025-05-03T11:02:04.972004",
     "status": "completed"
    },
    "tags": []
   },
   "outputs": [
    {
     "name": "stderr",
     "output_type": "stream",
     "text": [
      "2025-05-03 11:02:06.584576: E external/local_xla/xla/stream_executor/cuda/cuda_fft.cc:477] Unable to register cuFFT factory: Attempting to register factory for plugin cuFFT when one has already been registered\n",
      "WARNING: All log messages before absl::InitializeLog() is called are written to STDERR\n",
      "E0000 00:00:1746270126.809132      19 cuda_dnn.cc:8310] Unable to register cuDNN factory: Attempting to register factory for plugin cuDNN when one has already been registered\n",
      "E0000 00:00:1746270126.874219      19 cuda_blas.cc:1418] Unable to register cuBLAS factory: Attempting to register factory for plugin cuBLAS when one has already been registered\n"
     ]
    },
    {
     "name": "stdout",
     "output_type": "stream",
     "text": [
      "Found 8863 images belonging to 2 classes.\n",
      "Found 600 images belonging to 2 classes.\n"
     ]
    }
   ],
   "source": [
    "from tensorflow.keras.preprocessing.image import ImageDataGenerator\n",
    "\n",
    "IMG_SIZE = (224, 224)\n",
    "BATCH_SIZE = 32\n",
    "SEED = 42\n",
    "\n",
    "datagen = ImageDataGenerator(rescale=1./255)\n",
    "\n",
    "train_generator = datagen.flow_from_directory(\n",
    "    train_dir,\n",
    "    target_size=IMG_SIZE,\n",
    "    batch_size=BATCH_SIZE,\n",
    "    shuffle=True,\n",
    "    seed=SEED\n",
    ")\n",
    "\n",
    "val_generator = datagen.flow_from_directory(\n",
    "    val_dir,\n",
    "    target_size=IMG_SIZE,\n",
    "    batch_size=BATCH_SIZE,\n",
    "    shuffle=False,\n",
    "    seed=SEED\n",
    ")"
   ]
  },
  {
   "cell_type": "code",
   "execution_count": 3,
   "id": "c4f6c804",
   "metadata": {
    "execution": {
     "iopub.execute_input": "2025-05-03T11:02:26.890067Z",
     "iopub.status.busy": "2025-05-03T11:02:26.889586Z",
     "iopub.status.idle": "2025-05-03T11:02:31.928534Z",
     "shell.execute_reply": "2025-05-03T11:02:31.927710Z"
    },
    "papermill": {
     "duration": 5.042765,
     "end_time": "2025-05-03T11:02:31.929934",
     "exception": false,
     "start_time": "2025-05-03T11:02:26.887169",
     "status": "completed"
    },
    "tags": []
   },
   "outputs": [
    {
     "name": "stderr",
     "output_type": "stream",
     "text": [
      "I0000 00:00:1746270148.066776      19 gpu_device.cc:2022] Created device /job:localhost/replica:0/task:0/device:GPU:0 with 15513 MB memory:  -> device: 0, name: Tesla P100-PCIE-16GB, pci bus id: 0000:00:04.0, compute capability: 6.0\n"
     ]
    },
    {
     "name": "stdout",
     "output_type": "stream",
     "text": [
      "Downloading data from https://storage.googleapis.com/keras-applications/efficientnetb0_notop.h5\n",
      "\u001b[1m16705208/16705208\u001b[0m \u001b[32m━━━━━━━━━━━━━━━━━━━━\u001b[0m\u001b[37m\u001b[0m \u001b[1m1s\u001b[0m 0us/step\n"
     ]
    }
   ],
   "source": [
    "import tensorflow as tf\n",
    "from tensorflow.keras.applications import EfficientNetB0\n",
    "from tensorflow.keras.layers import GlobalAveragePooling2D, Input, Dense, Dropout\n",
    "from tensorflow.keras.models import Model\n",
    "\n",
    "base_model = EfficientNetB0(input_shape=IMG_SIZE + (3,), include_top=False, weights='imagenet')\n",
    "base_model.trainable = False\n",
    "feature_extractor = tf.keras.Sequential([base_model, GlobalAveragePooling2D()])"
   ]
  },
  {
   "cell_type": "code",
   "execution_count": 4,
   "id": "bbed06ed",
   "metadata": {
    "execution": {
     "iopub.execute_input": "2025-05-03T11:02:31.936994Z",
     "iopub.status.busy": "2025-05-03T11:02:31.936731Z",
     "iopub.status.idle": "2025-05-03T11:04:36.295879Z",
     "shell.execute_reply": "2025-05-03T11:04:36.295182Z"
    },
    "papermill": {
     "duration": 124.364098,
     "end_time": "2025-05-03T11:04:36.297253",
     "exception": false,
     "start_time": "2025-05-03T11:02:31.933155",
     "status": "completed"
    },
    "tags": []
   },
   "outputs": [
    {
     "name": "stderr",
     "output_type": "stream",
     "text": [
      "WARNING: All log messages before absl::InitializeLog() is called are written to STDERR\n",
      "I0000 00:00:1746270155.625736      71 service.cc:148] XLA service 0x7d6a10001d90 initialized for platform CUDA (this does not guarantee that XLA will be used). Devices:\n",
      "I0000 00:00:1746270155.626611      71 service.cc:156]   StreamExecutor device (0): Tesla P100-PCIE-16GB, Compute Capability 6.0\n",
      "I0000 00:00:1746270156.336570      71 cuda_dnn.cc:529] Loaded cuDNN version 90300\n",
      "I0000 00:00:1746270161.081069      71 device_compiler.h:188] Compiled cluster using XLA!  This line is logged at most once for the lifetime of the process.\n"
     ]
    }
   ],
   "source": [
    "import numpy as np\n",
    "from PIL import ImageFile\n",
    "\n",
    "ImageFile.LOAD_TRUNCATED_IMAGES = True\n",
    "\n",
    "def extract_features(generator):\n",
    "    features = []\n",
    "    labels = []\n",
    "    for i in range(len(generator)):\n",
    "        batch_images, batch_labels = generator[i]\n",
    "        batch_features = feature_extractor.predict(batch_images, verbose=0)\n",
    "        features.extend(batch_features)\n",
    "        labels.extend(batch_labels)\n",
    "    return np.array(features), np.array(labels)\n",
    "\n",
    "\n",
    "X_train, y_train = extract_features(train_generator)\n",
    "X_val, y_val = extract_features(val_generator)\n",
    "\n",
    "y_train = np.argmax(y_train, axis=1)\n",
    "y_val = np.argmax(y_val, axis=1)"
   ]
  },
  {
   "cell_type": "code",
   "execution_count": 5,
   "id": "41fbb050",
   "metadata": {
    "execution": {
     "iopub.execute_input": "2025-05-03T11:04:36.304122Z",
     "iopub.status.busy": "2025-05-03T11:04:36.303900Z",
     "iopub.status.idle": "2025-05-03T11:04:41.924774Z",
     "shell.execute_reply": "2025-05-03T11:04:41.923851Z"
    },
    "papermill": {
     "duration": 5.625378,
     "end_time": "2025-05-03T11:04:41.925944",
     "exception": false,
     "start_time": "2025-05-03T11:04:36.300566",
     "status": "completed"
    },
    "tags": []
   },
   "outputs": [
    {
     "name": "stdout",
     "output_type": "stream",
     "text": [
      "Accuracy: 0.7233333333333334\n",
      "              precision    recall  f1-score   support\n",
      "\n",
      "           0       0.85      0.65      0.74       360\n",
      "           1       0.61      0.83      0.71       240\n",
      "\n",
      "    accuracy                           0.72       600\n",
      "   macro avg       0.73      0.74      0.72       600\n",
      "weighted avg       0.76      0.72      0.73       600\n",
      "\n"
     ]
    }
   ],
   "source": [
    "from sklearn.ensemble import RandomForestClassifier\n",
    "from sklearn.metrics import classification_report, accuracy_score, confusion_matrix\n",
    "\n",
    "model = RandomForestClassifier(n_estimators=125, max_depth=5, random_state=42, n_jobs=-1)\n",
    "model.fit(X_train, y_train)\n",
    "pred_val = model.predict(X_val)\n",
    "print(\"Accuracy:\", accuracy_score(y_val, pred_val))\n",
    "print(classification_report(y_val, pred_val))"
   ]
  },
  {
   "cell_type": "code",
   "execution_count": 6,
   "id": "d0d5766a",
   "metadata": {
    "execution": {
     "iopub.execute_input": "2025-05-03T11:04:41.933073Z",
     "iopub.status.busy": "2025-05-03T11:04:41.932288Z",
     "iopub.status.idle": "2025-05-03T11:04:42.555728Z",
     "shell.execute_reply": "2025-05-03T11:04:42.555041Z"
    },
    "papermill": {
     "duration": 0.628112,
     "end_time": "2025-05-03T11:04:42.557036",
     "exception": false,
     "start_time": "2025-05-03T11:04:41.928924",
     "status": "completed"
    },
    "tags": []
   },
   "outputs": [
    {
     "data": {
      "image/png": "[encoded data removed]",
      "text/plain": [
       "<Figure size 800x600 with 2 Axes>"
      ]
     },
     "metadata": {},
     "output_type": "display_data"
    }
   ],
   "source": [
    "import matplotlib.pyplot as plt\n",
    "import seaborn as sns\n",
    "\n",
    "CLASS_NAMES = list(train_generator.class_indices.keys())\n",
    "cm = confusion_matrix(y_val, pred_val)\n",
    "\n",
    "plt.figure(figsize=(8, 6))\n",
    "sns.heatmap(cm, \n",
    "            annot=True, \n",
    "            fmt='d', \n",
    "            cmap='Blues',\n",
    "            xticklabels=CLASS_NAMES,\n",
    "            yticklabels=CLASS_NAMES)\n",
    "\n",
    "plt.title('Matrice de Confusion', pad=20, fontsize=14)\n",
    "plt.xlabel('Pred', labelpad=10)\n",
    "plt.ylabel('True', labelpad=10)\n",
    "plt.xticks(rotation=0)\n",
    "plt.yticks(rotation=0)\n",
    "plt.tight_layout()\n",
    "plt.show()"
   ]
  },
  {
   "cell_type": "code",
   "execution_count": 7,
   "id": "6673f777",
   "metadata": {
    "execution": {
     "iopub.execute_input": "2025-05-03T11:04:42.565132Z",
     "iopub.status.busy": "2025-05-03T11:04:42.564454Z",
     "iopub.status.idle": "2025-05-03T11:04:42.567557Z",
     "shell.execute_reply": "2025-05-03T11:04:42.567036Z"
    },
    "papermill": {
     "duration": 0.007927,
     "end_time": "2025-05-03T11:04:42.568567",
     "exception": false,
     "start_time": "2025-05-03T11:04:42.560640",
     "status": "completed"
    },
    "tags": []
   },
   "outputs": [],
   "source": [
    "# import joblib\n",
    "# joblib.dump(best_knn, 'best_knn_model.pkl')"
   ]
  }
 ],
 "metadata": {
  "kaggle": {
   "accelerator": "gpu",
   "dataSources": [
    {
     "datasetId": 4562384,
     "sourceId": 7793511,
     "sourceType": "datasetVersion"
    },
    {
     "datasetId": 4854718,
     "sourceId": 8201044,
     "sourceType": "datasetVersion"
    }
   ],
   "dockerImageVersionId": 31012,
   "isGpuEnabled": true,
   "isInternetEnabled": true,
   "language": "python",
   "sourceType": "notebook"
  },
  "kernelspec": {
   "display_name": "Python 3",
   "language": "python",
   "name": "python3"
  },
  "language_info": {
   "codemirror_mode": {
    "name": "ipython",
    "version": 3
   },
   "file_extension": ".py",
   "mimetype": "text/x-python",
   "name": "python",
   "nbconvert_exporter": "python",
   "pygments_lexer": "ipython3",
   "version": "3.11.11"
  },
  "papermill": {
   "default_parameters": {},
   "duration": 165.34092,
   "end_time": "2025-05-03T11:04:46.024735",
   "environment_variables": {},
   "exception": null,
   "input_path": "__notebook__.ipynb",
   "output_path": "__notebook__.ipynb",
   "parameters": {},
   "start_time": "2025-05-03T11:02:00.683815",
   "version": "2.6.0"
  }
 },
 "nbformat": 4,
 "nbformat_minor": 5
}
