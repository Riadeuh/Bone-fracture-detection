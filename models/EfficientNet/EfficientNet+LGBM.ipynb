{
 "cells": [
  {
   "cell_type": "code",
   "execution_count": 1,
   "id": "6eef87bb",
   "metadata": {
    "execution": {
     "iopub.execute_input": "2025-05-03T14:41:05.879882Z",
     "iopub.status.busy": "2025-05-03T14:41:05.879582Z",
     "iopub.status.idle": "2025-05-03T14:41:05.886384Z",
     "shell.execute_reply": "2025-05-03T14:41:05.885797Z"
    },
    "papermill": {
     "duration": 0.011506,
     "end_time": "2025-05-03T14:41:05.887541",
     "exception": false,
     "start_time": "2025-05-03T14:41:05.876035",
     "status": "completed"
    },
    "tags": []
   },
   "outputs": [],
   "source": [
    "import os\n",
    "\n",
    "PATH = '/kaggle/input/fracture-detection-using-x-ray-images/data'\n",
    "train_dir = os.path.join(PATH, 'train')\n",
    "val_dir = os.path.join(PATH, 'val')"
   ]
  },
  {
   "cell_type": "code",
   "execution_count": 2,
   "id": "4184287b",
   "metadata": {
    "execution": {
     "iopub.execute_input": "2025-05-03T14:41:05.892393Z",
     "iopub.status.busy": "2025-05-03T14:41:05.892142Z",
     "iopub.status.idle": "2025-05-03T14:41:29.865202Z",
     "shell.execute_reply": "2025-05-03T14:41:29.864365Z"
    },
    "papermill": {
     "duration": 23.976778,
     "end_time": "2025-05-03T14:41:29.866526",
     "exception": false,
     "start_time": "2025-05-03T14:41:05.889748",
     "status": "completed"
    },
    "tags": []
   },
   "outputs": [
    {
     "name": "stderr",
     "output_type": "stream",
     "text": [
      "2025-05-03 14:41:07.867095: E external/local_xla/xla/stream_executor/cuda/cuda_fft.cc:477] Unable to register cuFFT factory: Attempting to register factory for plugin cuFFT when one has already been registered\n",
      "WARNING: All log messages before absl::InitializeLog() is called are written to STDERR\n",
      "E0000 00:00:1746283268.119349      19 cuda_dnn.cc:8310] Unable to register cuDNN factory: Attempting to register factory for plugin cuDNN when one has already been registered\n",
      "E0000 00:00:1746283268.193654      19 cuda_blas.cc:1418] Unable to register cuBLAS factory: Attempting to register factory for plugin cuBLAS when one has already been registered\n"
     ]
    },
    {
     "name": "stdout",
     "output_type": "stream",
     "text": [
      "Found 8863 images belonging to 2 classes.\n",
      "Found 600 images belonging to 2 classes.\n"
     ]
    }
   ],
   "source": [
    "from tensorflow.keras.preprocessing.image import ImageDataGenerator\n",
    "\n",
    "IMG_SIZE = (224, 224)\n",
    "BATCH_SIZE = 32\n",
    "SEED = 42\n",
    "\n",
    "datagen = ImageDataGenerator(rescale=1./255)\n",
    "\n",
    "train_generator = datagen.flow_from_directory(\n",
    "    train_dir,\n",
    "    target_size=IMG_SIZE,\n",
    "    batch_size=BATCH_SIZE,\n",
    "    shuffle=True,\n",
    "    seed=SEED\n",
    ")\n",
    "\n",
    "val_generator = datagen.flow_from_directory(\n",
    "    val_dir,\n",
    "    target_size=IMG_SIZE,\n",
    "    batch_size=BATCH_SIZE,\n",
    "    shuffle=False,\n",
    "    seed=SEED\n",
    ")"
   ]
  },
  {
   "cell_type": "code",
   "execution_count": 3,
   "id": "f6e95a1c",
   "metadata": {
    "execution": {
     "iopub.execute_input": "2025-05-03T14:41:29.872211Z",
     "iopub.status.busy": "2025-05-03T14:41:29.871641Z",
     "iopub.status.idle": "2025-05-03T14:41:35.324346Z",
     "shell.execute_reply": "2025-05-03T14:41:35.323686Z"
    },
    "papermill": {
     "duration": 5.456777,
     "end_time": "2025-05-03T14:41:35.325766",
     "exception": false,
     "start_time": "2025-05-03T14:41:29.868989",
     "status": "completed"
    },
    "tags": []
   },
   "outputs": [
    {
     "name": "stderr",
     "output_type": "stream",
     "text": [
      "I0000 00:00:1746283291.148978      19 gpu_device.cc:2022] Created device /job:localhost/replica:0/task:0/device:GPU:0 with 15513 MB memory:  -> device: 0, name: Tesla P100-PCIE-16GB, pci bus id: 0000:00:04.0, compute capability: 6.0\n"
     ]
    },
    {
     "name": "stdout",
     "output_type": "stream",
     "text": [
      "Downloading data from https://storage.googleapis.com/keras-applications/efficientnetb0_notop.h5\n",
      "\u001b[1m16705208/16705208\u001b[0m \u001b[32m━━━━━━━━━━━━━━━━━━━━\u001b[0m\u001b[37m\u001b[0m \u001b[1m1s\u001b[0m 0us/step\n"
     ]
    }
   ],
   "source": [
    "import tensorflow as tf\n",
    "from tensorflow.keras.applications import EfficientNetB0\n",
    "from tensorflow.keras.layers import GlobalAveragePooling2D, Input, Dense, Dropout\n",
    "from tensorflow.keras.models import Model\n",
    "\n",
    "base_model = EfficientNetB0(input_shape=IMG_SIZE + (3,), include_top=False, weights='imagenet')\n",
    "base_model.trainable = False\n",
    "feature_extractor = tf.keras.Sequential([base_model, GlobalAveragePooling2D()])"
   ]
  },
  {
   "cell_type": "code",
   "execution_count": 4,
   "id": "9be479de",
   "metadata": {
    "execution": {
     "iopub.execute_input": "2025-05-03T14:41:35.333207Z",
     "iopub.status.busy": "2025-05-03T14:41:35.332562Z",
     "iopub.status.idle": "2025-05-03T14:43:25.107903Z",
     "shell.execute_reply": "2025-05-03T14:43:25.107205Z"
    },
    "papermill": {
     "duration": 109.780354,
     "end_time": "2025-05-03T14:43:25.109430",
     "exception": false,
     "start_time": "2025-05-03T14:41:35.329076",
     "status": "completed"
    },
    "tags": []
   },
   "outputs": [
    {
     "name": "stderr",
     "output_type": "stream",
     "text": [
      "WARNING: All log messages before absl::InitializeLog() is called are written to STDERR\n",
      "I0000 00:00:1746283299.467481      72 service.cc:148] XLA service 0x7b3a34003920 initialized for platform CUDA (this does not guarantee that XLA will be used). Devices:\n",
      "I0000 00:00:1746283299.468883      72 service.cc:156]   StreamExecutor device (0): Tesla P100-PCIE-16GB, Compute Capability 6.0\n",
      "I0000 00:00:1746283300.251009      72 cuda_dnn.cc:529] Loaded cuDNN version 90300\n",
      "I0000 00:00:1746283305.449736      72 device_compiler.h:188] Compiled cluster using XLA!  This line is logged at most once for the lifetime of the process.\n"
     ]
    }
   ],
   "source": [
    "import numpy as np\n",
    "from PIL import ImageFile\n",
    "\n",
    "ImageFile.LOAD_TRUNCATED_IMAGES = True\n",
    "\n",
    "def extract_features(generator):\n",
    "    features = []\n",
    "    labels = []\n",
    "    for i in range(len(generator)):\n",
    "        batch_images, batch_labels = generator[i]\n",
    "        batch_features = feature_extractor.predict(batch_images, verbose=0)\n",
    "        features.extend(batch_features)\n",
    "        labels.extend(batch_labels)\n",
    "    return np.array(features), np.array(labels)\n",
    "\n",
    "\n",
    "X_train, y_train = extract_features(train_generator)\n",
    "X_val, y_val = extract_features(val_generator)\n",
    "\n",
    "y_train = np.argmax(y_train, axis=1)\n",
    "y_val = np.argmax(y_val, axis=1)"
   ]
  },
  {
   "cell_type": "code",
   "execution_count": 5,
   "id": "9024fd73",
   "metadata": {
    "execution": {
     "iopub.execute_input": "2025-05-03T14:43:25.117077Z",
     "iopub.status.busy": "2025-05-03T14:43:25.116532Z",
     "iopub.status.idle": "2025-05-03T14:43:35.396189Z",
     "shell.execute_reply": "2025-05-03T14:43:35.394886Z"
    },
    "papermill": {
     "duration": 10.285025,
     "end_time": "2025-05-03T14:43:35.397901",
     "exception": false,
     "start_time": "2025-05-03T14:43:25.112876",
     "status": "completed"
    },
    "tags": []
   },
   "outputs": [
    {
     "name": "stdout",
     "output_type": "stream",
     "text": [
      "[LightGBM] [Info] Number of positive: 4383, number of negative: 4480\n",
      "[LightGBM] [Info] Auto-choosing col-wise multi-threading, the overhead of testing was 0.161430 seconds.\n",
      "You can set `force_col_wise=true` to remove the overhead.\n",
      "[LightGBM] [Info] Total Bins 326400\n",
      "[LightGBM] [Info] Number of data points in the train set: 8863, number of used features: 1280\n",
      "[LightGBM] [Info] [binary:BoostFromScore]: pavg=0.494528 -> initscore=-0.021890\n",
      "[LightGBM] [Info] Start training from score -0.021890\n",
      "Accuracy: 0.7483333333333333\n",
      "              precision    recall  f1-score   support\n",
      "\n",
      "           0       0.86      0.70      0.77       360\n",
      "           1       0.64      0.82      0.72       240\n",
      "\n",
      "    accuracy                           0.75       600\n",
      "   macro avg       0.75      0.76      0.75       600\n",
      "weighted avg       0.77      0.75      0.75       600\n",
      "\n"
     ]
    }
   ],
   "source": [
    "import lightgbm as lgb\n",
    "from sklearn.metrics import classification_report, accuracy_score, confusion_matrix\n",
    "\n",
    "model = lgb.LGBMClassifier(boosting_type='dart', num_leaves=5, n_estimators=125, random_state=42, n_jobs=-1)\n",
    "model.fit(X_train, y_train)\n",
    "pred_val = model.predict(X_val)\n",
    "print(\"Accuracy:\", accuracy_score(y_val, pred_val))\n",
    "print(classification_report(y_val, pred_val))"
   ]
  },
  {
   "cell_type": "code",
   "execution_count": 6,
   "id": "f044c9d4",
   "metadata": {
    "execution": {
     "iopub.execute_input": "2025-05-03T14:43:35.406724Z",
     "iopub.status.busy": "2025-05-03T14:43:35.406019Z",
     "iopub.status.idle": "2025-05-03T14:43:36.385928Z",
     "shell.execute_reply": "2025-05-03T14:43:36.385015Z"
    },
    "papermill": {
     "duration": 0.985405,
     "end_time": "2025-05-03T14:43:36.387432",
     "exception": false,
     "start_time": "2025-05-03T14:43:35.402027",
     "status": "completed"
    },
    "tags": []
   },
   "outputs": [
    {
     "data": {
      "image/png": "[encoded data removed]",
      "text/plain": [
       "<Figure size 800x600 with 2 Axes>"
      ]
     },
     "metadata": {},
     "output_type": "display_data"
    }
   ],
   "source": [
    "import matplotlib.pyplot as plt\n",
    "import seaborn as sns\n",
    "\n",
    "CLASS_NAMES = list(train_generator.class_indices.keys())\n",
    "cm = confusion_matrix(y_val, pred_val)\n",
    "\n",
    "plt.figure(figsize=(8, 6))\n",
    "sns.heatmap(cm, \n",
    "            annot=True, \n",
    "            fmt='d', \n",
    "            cmap='Blues',\n",
    "            xticklabels=CLASS_NAMES,\n",
    "            yticklabels=CLASS_NAMES)\n",
    "\n",
    "plt.title('Matrice de Confusion', pad=20, fontsize=14)\n",
    "plt.xlabel('Pred', labelpad=10)\n",
    "plt.ylabel('True', labelpad=10)\n",
    "plt.xticks(rotation=0)\n",
    "plt.yticks(rotation=0)\n",
    "plt.tight_layout()\n",
    "plt.show()"
   ]
  },
  {
   "cell_type": "code",
   "execution_count": 7,
   "id": "e420aae1",
   "metadata": {
    "execution": {
     "iopub.execute_input": "2025-05-03T14:43:36.397193Z",
     "iopub.status.busy": "2025-05-03T14:43:36.396444Z",
     "iopub.status.idle": "2025-05-03T14:43:36.406573Z",
     "shell.execute_reply": "2025-05-03T14:43:36.405155Z"
    },
    "papermill": {
     "duration": 0.016273,
     "end_time": "2025-05-03T14:43:36.407990",
     "exception": false,
     "start_time": "2025-05-03T14:43:36.391717",
     "status": "completed"
    },
    "tags": []
   },
   "outputs": [
    {
     "data": {
      "text/plain": [
       "['EfficientNet_Model.pkl']"
      ]
     },
     "execution_count": 7,
     "metadata": {},
     "output_type": "execute_result"
    }
   ],
   "source": [
    "import joblib\n",
    "joblib.dump(model, 'EfficientNet_Model.pkl')"
   ]
  }
 ],
 "metadata": {
  "kaggle": {
   "accelerator": "gpu",
   "dataSources": [
    {
     "datasetId": 4562384,
     "sourceId": 7793511,
     "sourceType": "datasetVersion"
    },
    {
     "datasetId": 4854718,
     "sourceId": 8201044,
     "sourceType": "datasetVersion"
    }
   ],
   "dockerImageVersionId": 31012,
   "isGpuEnabled": true,
   "isInternetEnabled": true,
   "language": "python",
   "sourceType": "notebook"
  },
  "kernelspec": {
   "display_name": "Python 3",
   "language": "python",
   "name": "python3"
  },
  "language_info": {
   "codemirror_mode": {
    "name": "ipython",
    "version": 3
   },
   "file_extension": ".py",
   "mimetype": "text/x-python",
   "name": "python",
   "nbconvert_exporter": "python",
   "pygments_lexer": "ipython3",
   "version": "3.11.11"
  },
  "papermill": {
   "default_parameters": {},
   "duration": 158.582195,
   "end_time": "2025-05-03T14:43:39.586576",
   "environment_variables": {},
   "exception": null,
   "input_path": "__notebook__.ipynb",
   "output_path": "__notebook__.ipynb",
   "parameters": {},
   "start_time": "2025-05-03T14:41:01.004381",
   "version": "2.6.0"
  }
 },
 "nbformat": 4,
 "nbformat_minor": 5
}
