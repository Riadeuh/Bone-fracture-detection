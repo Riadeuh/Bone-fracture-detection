{
 "cells": [
  {
   "cell_type": "code",
   "execution_count": 1,
   "id": "4fb19756",
   "metadata": {
    "execution": {
     "iopub.execute_input": "2025-05-05T23:00:05.906168Z",
     "iopub.status.busy": "2025-05-05T23:00:05.905902Z",
     "iopub.status.idle": "2025-05-05T23:00:05.912112Z",
     "shell.execute_reply": "2025-05-05T23:00:05.911597Z"
    },
    "papermill": {
     "duration": 0.010594,
     "end_time": "2025-05-05T23:00:05.913147",
     "exception": false,
     "start_time": "2025-05-05T23:00:05.902553",
     "status": "completed"
    },
    "tags": []
   },
   "outputs": [],
   "source": [
    "import os\n",
    "\n",
    "PATH = '/kaggle/input/fracture-detection-using-x-ray-images/data'\n",
    "train_dir = os.path.join(PATH, 'train')\n",
    "val_dir = os.path.join(PATH, 'val')"
   ]
  },
  {
   "cell_type": "code",
   "execution_count": 2,
   "id": "4c9e6ff2",
   "metadata": {
    "execution": {
     "iopub.execute_input": "2025-05-05T23:00:05.917304Z",
     "iopub.status.busy": "2025-05-05T23:00:05.917097Z",
     "iopub.status.idle": "2025-05-05T23:00:27.009462Z",
     "shell.execute_reply": "2025-05-05T23:00:27.008903Z"
    },
    "papermill": {
     "duration": 21.095602,
     "end_time": "2025-05-05T23:00:27.010633",
     "exception": false,
     "start_time": "2025-05-05T23:00:05.915031",
     "status": "completed"
    },
    "tags": []
   },
   "outputs": [
    {
     "name": "stderr",
     "output_type": "stream",
     "text": [
      "2025-05-05 23:00:07.531495: E external/local_xla/xla/stream_executor/cuda/cuda_fft.cc:477] Unable to register cuFFT factory: Attempting to register factory for plugin cuFFT when one has already been registered\n",
      "WARNING: All log messages before absl::InitializeLog() is called are written to STDERR\n",
      "E0000 00:00:1746486007.738071      19 cuda_dnn.cc:8310] Unable to register cuDNN factory: Attempting to register factory for plugin cuDNN when one has already been registered\n",
      "E0000 00:00:1746486007.801813      19 cuda_blas.cc:1418] Unable to register cuBLAS factory: Attempting to register factory for plugin cuBLAS when one has already been registered\n"
     ]
    },
    {
     "name": "stdout",
     "output_type": "stream",
     "text": [
      "Found 8863 images belonging to 2 classes.\n",
      "Found 600 images belonging to 2 classes.\n"
     ]
    }
   ],
   "source": [
    "from tensorflow.keras.preprocessing.image import ImageDataGenerator\n",
    "\n",
    "IMG_SIZE = (224, 224)\n",
    "BATCH_SIZE = 32\n",
    "SEED = 42\n",
    "\n",
    "datagen = ImageDataGenerator(rescale=1./255)\n",
    "\n",
    "train_generator = datagen.flow_from_directory(\n",
    "    train_dir,\n",
    "    target_size=IMG_SIZE,\n",
    "    batch_size=BATCH_SIZE,\n",
    "    shuffle=True,\n",
    "    seed=SEED\n",
    ")\n",
    "\n",
    "val_generator = datagen.flow_from_directory(\n",
    "    val_dir,\n",
    "    target_size=IMG_SIZE,\n",
    "    batch_size=BATCH_SIZE,\n",
    "    shuffle=False,\n",
    "    seed=SEED\n",
    ")"
   ]
  },
  {
   "cell_type": "code",
   "execution_count": 3,
   "id": "9d2f5867",
   "metadata": {
    "execution": {
     "iopub.execute_input": "2025-05-05T23:00:27.015592Z",
     "iopub.status.busy": "2025-05-05T23:00:27.015126Z",
     "iopub.status.idle": "2025-05-05T23:00:30.860328Z",
     "shell.execute_reply": "2025-05-05T23:00:30.859733Z"
    },
    "papermill": {
     "duration": 3.848883,
     "end_time": "2025-05-05T23:00:30.861618",
     "exception": false,
     "start_time": "2025-05-05T23:00:27.012735",
     "status": "completed"
    },
    "tags": []
   },
   "outputs": [
    {
     "name": "stderr",
     "output_type": "stream",
     "text": [
      "I0000 00:00:1746486028.059762      19 gpu_device.cc:2022] Created device /job:localhost/replica:0/task:0/device:GPU:0 with 15513 MB memory:  -> device: 0, name: Tesla P100-PCIE-16GB, pci bus id: 0000:00:04.0, compute capability: 6.0\n"
     ]
    },
    {
     "name": "stdout",
     "output_type": "stream",
     "text": [
      "Downloading data from https://storage.googleapis.com/keras-applications/efficientnetb0_notop.h5\n",
      "\u001b[1m16705208/16705208\u001b[0m \u001b[32m━━━━━━━━━━━━━━━━━━━━\u001b[0m\u001b[37m\u001b[0m \u001b[1m0s\u001b[0m 0us/step\n"
     ]
    }
   ],
   "source": [
    "import tensorflow as tf\n",
    "from tensorflow.keras.applications import EfficientNetB0\n",
    "from tensorflow.keras.layers import GlobalAveragePooling2D\n",
    "\n",
    "base_model = EfficientNetB0(input_shape=IMG_SIZE + (3,), include_top=False, weights='imagenet')\n",
    "base_model.trainable = False\n",
    "feature_extractor = tf.keras.Sequential([base_model, GlobalAveragePooling2D()])"
   ]
  },
  {
   "cell_type": "code",
   "execution_count": 4,
   "id": "f2c9893e",
   "metadata": {
    "execution": {
     "iopub.execute_input": "2025-05-05T23:00:30.867090Z",
     "iopub.status.busy": "2025-05-05T23:00:30.866846Z",
     "iopub.status.idle": "2025-05-05T23:02:19.306292Z",
     "shell.execute_reply": "2025-05-05T23:02:19.305652Z"
    },
    "papermill": {
     "duration": 108.443734,
     "end_time": "2025-05-05T23:02:19.307776",
     "exception": false,
     "start_time": "2025-05-05T23:00:30.864042",
     "status": "completed"
    },
    "tags": []
   },
   "outputs": [
    {
     "name": "stderr",
     "output_type": "stream",
     "text": [
      "WARNING: All log messages before absl::InitializeLog() is called are written to STDERR\n",
      "I0000 00:00:1746486034.440550      74 service.cc:148] XLA service 0x7fefe4348a90 initialized for platform CUDA (this does not guarantee that XLA will be used). Devices:\n",
      "I0000 00:00:1746486034.441321      74 service.cc:156]   StreamExecutor device (0): Tesla P100-PCIE-16GB, Compute Capability 6.0\n",
      "I0000 00:00:1746486035.157598      74 cuda_dnn.cc:529] Loaded cuDNN version 90300\n",
      "I0000 00:00:1746486039.864272      74 device_compiler.h:188] Compiled cluster using XLA!  This line is logged at most once for the lifetime of the process.\n"
     ]
    }
   ],
   "source": [
    "import numpy as np\n",
    "from PIL import ImageFile\n",
    "\n",
    "ImageFile.LOAD_TRUNCATED_IMAGES = True\n",
    "\n",
    "def extract_features(generator):\n",
    "    features = []\n",
    "    labels = []\n",
    "    for i in range(len(generator)):\n",
    "        batch_images, batch_labels = generator[i]\n",
    "        batch_features = feature_extractor.predict(batch_images, verbose=0)\n",
    "        features.extend(batch_features)\n",
    "        labels.extend(batch_labels)\n",
    "    return np.array(features), np.array(labels)\n",
    "\n",
    "\n",
    "X_train, y_train = extract_features(train_generator)\n",
    "X_val, y_val = extract_features(val_generator)\n",
    "\n",
    "y_train = np.argmax(y_train, axis=1)\n",
    "y_val = np.argmax(y_val, axis=1)"
   ]
  },
  {
   "cell_type": "code",
   "execution_count": 5,
   "id": "3e5f28c3",
   "metadata": {
    "execution": {
     "iopub.execute_input": "2025-05-05T23:02:19.315055Z",
     "iopub.status.busy": "2025-05-05T23:02:19.314806Z",
     "iopub.status.idle": "2025-05-05T23:02:20.609611Z",
     "shell.execute_reply": "2025-05-05T23:02:20.608819Z"
    },
    "papermill": {
     "duration": 1.298948,
     "end_time": "2025-05-05T23:02:20.610828",
     "exception": false,
     "start_time": "2025-05-05T23:02:19.311880",
     "status": "completed"
    },
    "tags": []
   },
   "outputs": [
    {
     "name": "stdout",
     "output_type": "stream",
     "text": [
      "Temps d'entraînement: 0.01 secondes\n",
      "Temps d'inférence (ensemble de validation): 0.23 secondes\n",
      "Temps moyen par image: 0.39 ms\n",
      "Accuracy: 0.6616666666666666\n",
      "              precision    recall  f1-score   support\n",
      "\n",
      "           0       0.85      0.53      0.65       360\n",
      "           1       0.55      0.86      0.67       240\n",
      "\n",
      "    accuracy                           0.66       600\n",
      "   macro avg       0.70      0.69      0.66       600\n",
      "weighted avg       0.73      0.66      0.66       600\n",
      "\n"
     ]
    }
   ],
   "source": [
    "import time\n",
    "from sklearn.neighbors import KNeighborsClassifier\n",
    "from sklearn.metrics import classification_report, accuracy_score, confusion_matrix\n",
    "\n",
    "model = KNeighborsClassifier(n_neighbors=49, n_jobs=-1)\n",
    "\n",
    "start_time = time.time()\n",
    "model.fit(X_train, y_train)\n",
    "train_time = time.time() - start_time\n",
    "print(f\"Temps d'entraînement: {train_time:.2f} secondes\")\n",
    "\n",
    "start_time = time.time()\n",
    "pred_val = model.predict(X_val)\n",
    "inference_time = time.time() - start_time\n",
    "\n",
    "print(f\"Temps d'inférence (ensemble de validation): {inference_time:.2f} secondes\")\n",
    "print(f\"Temps moyen par image: {inference_time/len(X_val)*1000:.2f} ms\")\n",
    "print(\"Accuracy:\", accuracy_score(y_val, pred_val))\n",
    "print(classification_report(y_val, pred_val))"
   ]
  },
  {
   "cell_type": "code",
   "execution_count": 6,
   "id": "75f77ee1",
   "metadata": {
    "execution": {
     "iopub.execute_input": "2025-05-05T23:02:20.616747Z",
     "iopub.status.busy": "2025-05-05T23:02:20.616073Z",
     "iopub.status.idle": "2025-05-05T23:02:21.227869Z",
     "shell.execute_reply": "2025-05-05T23:02:21.227201Z"
    },
    "papermill": {
     "duration": 0.615877,
     "end_time": "2025-05-05T23:02:21.229143",
     "exception": false,
     "start_time": "2025-05-05T23:02:20.613266",
     "status": "completed"
    },
    "tags": []
   },
   "outputs": [
    {
     "data": {
      "image/png": "[encoded data removed]",
      "text/plain": [
       "<Figure size 800x600 with 2 Axes>"
      ]
     },
     "metadata": {},
     "output_type": "display_data"
    }
   ],
   "source": [
    "import matplotlib.pyplot as plt\n",
    "import seaborn as sns\n",
    "\n",
    "CLASS_NAMES = list(train_generator.class_indices.keys())\n",
    "cm = confusion_matrix(y_val, pred_val)\n",
    "\n",
    "plt.figure(figsize=(8, 6))\n",
    "sns.heatmap(cm, \n",
    "            annot=True, \n",
    "            fmt='d', \n",
    "            cmap='Blues',\n",
    "            xticklabels=CLASS_NAMES,\n",
    "            yticklabels=CLASS_NAMES)\n",
    "\n",
    "plt.title('Matrice de Confusion', pad=20, fontsize=14)\n",
    "plt.xlabel('Pred', labelpad=10)\n",
    "plt.ylabel('True', labelpad=10)\n",
    "plt.xticks(rotation=0)\n",
    "plt.yticks(rotation=0)\n",
    "plt.tight_layout()\n",
    "plt.show()"
   ]
  },
  {
   "cell_type": "code",
   "execution_count": 7,
   "id": "90bc85d2",
   "metadata": {
    "execution": {
     "iopub.execute_input": "2025-05-05T23:02:21.235854Z",
     "iopub.status.busy": "2025-05-05T23:02:21.235383Z",
     "iopub.status.idle": "2025-05-05T23:02:21.282586Z",
     "shell.execute_reply": "2025-05-05T23:02:21.281929Z"
    },
    "papermill": {
     "duration": 0.051679,
     "end_time": "2025-05-05T23:02:21.283798",
     "exception": false,
     "start_time": "2025-05-05T23:02:21.232119",
     "status": "completed"
    },
    "tags": []
   },
   "outputs": [
    {
     "data": {
      "text/plain": [
       "['EfficientNet_Model.pkl']"
      ]
     },
     "execution_count": 7,
     "metadata": {},
     "output_type": "execute_result"
    }
   ],
   "source": [
    "import joblib\n",
    "joblib.dump(model, 'EfficientNet_Model.pkl')"
   ]
  }
 ],
 "metadata": {
  "kaggle": {
   "accelerator": "gpu",
   "dataSources": [
    {
     "datasetId": 4562384,
     "sourceId": 7793511,
     "sourceType": "datasetVersion"
    },
    {
     "datasetId": 4854718,
     "sourceId": 8201044,
     "sourceType": "datasetVersion"
    }
   ],
   "dockerImageVersionId": 31012,
   "isGpuEnabled": true,
   "isInternetEnabled": true,
   "language": "python",
   "sourceType": "notebook"
  },
  "kernelspec": {
   "display_name": "Python 3",
   "language": "python",
   "name": "python3"
  },
  "language_info": {
   "codemirror_mode": {
    "name": "ipython",
    "version": 3
   },
   "file_extension": ".py",
   "mimetype": "text/x-python",
   "name": "python",
   "nbconvert_exporter": "python",
   "pygments_lexer": "ipython3",
   "version": "3.11.11"
  },
  "papermill": {
   "default_parameters": {},
   "duration": 142.284328,
   "end_time": "2025-05-05T23:02:24.112369",
   "environment_variables": {},
   "exception": null,
   "input_path": "__notebook__.ipynb",
   "output_path": "__notebook__.ipynb",
   "parameters": {},
   "start_time": "2025-05-05T23:00:01.828041",
   "version": "2.6.0"
  }
 },
 "nbformat": 4,
 "nbformat_minor": 5
}
